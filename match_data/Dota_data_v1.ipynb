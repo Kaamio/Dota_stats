{
 "cells": [
  {
   "cell_type": "markdown",
   "metadata": {},
   "source": [
    "# DotA -analysis\n",
    "\n",
    "Data source: OpenDota API, https://docs.opendota.com/ <br> \n",
    "Data range 4.10.2012 - 28.04.2020 <br>\n",
    "Data from: Jonu, Ika_bono, Kaamio, Naakka, fDiamond <br>\n"
   ]
  },
  {
   "cell_type": "code",
   "execution_count": 115,
   "metadata": {},
   "outputs": [],
   "source": [
    "import pandas as pd\n",
    "import numpy as np\n",
    "import matplotlib.pyplot as plt\n",
    "import seaborn as sns\n",
    "import matplotlib.dates as mdates\n",
    "from matplotlib.dates import MonthLocator\n",
    "\n",
    "pd.set_option('display.max_rows', 500)\n",
    "plt.style.use('ggplot')"
   ]
  },
  {
   "cell_type": "code",
   "execution_count": 116,
   "metadata": {},
   "outputs": [],
   "source": [
    "#Read in the data. df_heros contains the hero roles. \n",
    "df = pd.read_csv(\"./matches_with_teams.csv\", index_col = 'index')\n",
    "df_heros = pd.read_csv(\"./heroes_with_roles.csv\", index_col = 'index')"
   ]
  },
  {
   "cell_type": "markdown",
   "metadata": {},
   "source": [
    "# Data wrangling and exploration"
   ]
  },
  {
   "cell_type": "code",
   "execution_count": 117,
   "metadata": {},
   "outputs": [
    {
     "name": "stdout",
     "output_type": "stream",
     "text": [
      "2012-10-04\n",
      "2020-04-28\n"
     ]
    }
   ],
   "source": [
    "#Data date range:\n",
    "print(df['start_time'].min())\n",
    "print(df['start_time'].max())"
   ]
  },
  {
   "cell_type": "code",
   "execution_count": 118,
   "metadata": {},
   "outputs": [],
   "source": [
    "#Replace numerical values with  more descriptive ones.\n",
    "\n",
    "players = {490408 : 'Jonu', 54936413:'Kaamio', 232851:'fDiamond', 113894237:'ika_bono',118764669:'Naakka'}\n",
    "game_modes = {0:'Unknown', 1:'all_pick', 2:'captains_mode', 3:'random_draft', 4:'single_draft', 5:'all_random', 12:'least_played', 16:'captains_draft', 22:'all_pick'}\n",
    "lobby_types = {0: 'normal', 7:'ranked', 9: 'battle_cup'}\n",
    "skill_levels = {np.nan:'unknown', 1:'normal', 2:'high', 3:'very_high'}"
   ]
  },
  {
   "cell_type": "code",
   "execution_count": 119,
   "metadata": {},
   "outputs": [],
   "source": [
    "df = df.replace({'game_mode':game_modes, 'lobby_type': lobby_types, 'skill':skill_levels, 'steam_id':players})"
   ]
  },
  {
   "cell_type": "code",
   "execution_count": 120,
   "metadata": {},
   "outputs": [],
   "source": [
    "#Remove some unneeded columns and replace nan-values with 0 in the party_size-column.\n",
    "df.drop(['Unnamed: 0', 'Unnamed: 0.1', 'Unnamed: 0.1.1'], axis=1, inplace=True)"
   ]
  },
  {
   "cell_type": "code",
   "execution_count": 121,
   "metadata": {},
   "outputs": [],
   "source": [
    "df_heros.drop(['Unnamed: 0','name'], axis=1, inplace=True)"
   ]
  },
  {
   "cell_type": "code",
   "execution_count": 122,
   "metadata": {},
   "outputs": [],
   "source": [
    "df['party_size'].fillna(0, inplace=True);"
   ]
  },
  {
   "cell_type": "code",
   "execution_count": 123,
   "metadata": {},
   "outputs": [],
   "source": [
    "#Remove games that lasted less than 10 minutes.\n",
    "df = df[df['duration']>600]"
   ]
  },
  {
   "cell_type": "code",
   "execution_count": 124,
   "metadata": {},
   "outputs": [],
   "source": [
    "#This function assigns patch version based on the date of the game. Patch dates were taken from the dota wiki.\n",
    "def assign_version(date, version):\n",
    "    if date < '2012-10-21':\n",
    "        return 6.75\n",
    "    elif date < '2012-12-15':        \n",
    "        return 6.76\n",
    "    elif date < '2013-05-03':\n",
    "        return 6.77\n",
    "    elif date < '2013-10-21':\n",
    "        return 6.78\n",
    "    elif date < '2014-01-27':\n",
    "        return 6.80\n",
    "    elif date < '2014-04-29':\n",
    "        return 6.81\n",
    "    elif date < '2014-09-24':\n",
    "        return 6.82\n",
    "    elif date < '2014-12-17':\n",
    "        return 6.83\n",
    "    elif date < '2015-04-30':\n",
    "        return 6.84\n",
    "    elif date < '2015-09-24':\n",
    "        return 6.85\n",
    "    elif date < '2015-12-16':\n",
    "        return 6.86\n",
    "    elif date < '2016-04-25':\n",
    "        return 6.87\n",
    "    elif date < '2016-06-12':\n",
    "        return 6.88\n",
    "    elif date < '2016-12-12':\n",
    "        return 7.00\n",
    "    elif date < '2017-05-15':\n",
    "        return 7.06\n",
    "    elif date < '2017-10-31':\n",
    "        return 7.07\n",
    "    elif date < '2018-03-01':\n",
    "        return 7.10\n",
    "    elif date < '2018-03-29':\n",
    "        return 7.12\n",
    "    elif date < '2018-04-26':\n",
    "        return 7.14\n",
    "    elif date < '2018-05-27':\n",
    "        return 7.16\n",
    "    elif date < '2018-07-29':\n",
    "        return 7.19\n",
    "    elif date < '2018-11-19':\n",
    "        return 7.20\n",
    "    elif date < '2019-01-29':\n",
    "        return 7.21\n",
    "    elif date < '2019-05-24':\n",
    "        return 7.22\n",
    "    elif date < '2019-11-26':\n",
    "        return 7.23\n",
    "    elif date < '2020-01-26':\n",
    "        return 7.24\n",
    "    elif date < '2020-03-17':\n",
    "        return 7.25\n",
    "    else:\n",
    "        return 7.26\n"
   ]
  },
  {
   "cell_type": "code",
   "execution_count": 125,
   "metadata": {},
   "outputs": [],
   "source": [
    "df['version'] = df.apply(lambda x: assign_version(x.start_time, x.version), axis=1)"
   ]
  },
  {
   "cell_type": "code",
   "execution_count": 126,
   "metadata": {},
   "outputs": [],
   "source": [
    "#Combine hero data with match data \n",
    "df = df.merge(df_heros, left_on='hero_id', right_on='localized_name', how='left')"
   ]
  },
  {
   "cell_type": "code",
   "execution_count": 127,
   "metadata": {},
   "outputs": [],
   "source": [
    "#Hero roles are binary coded, switch type from float --> int\n",
    "df.loc[:,'Carry':'Escape'] = df.loc[:,'Carry':'Escape'].astype(int)"
   ]
  },
  {
   "cell_type": "code",
   "execution_count": 128,
   "metadata": {},
   "outputs": [],
   "source": [
    "#Convert date to datetime for easier plotting.\n",
    "df['start_time']= pd.to_datetime(df['start_time'])"
   ]
  },
  {
   "cell_type": "code",
   "execution_count": 129,
   "metadata": {},
   "outputs": [],
   "source": [
    "# Calculate running win% for the entire dataframe\n",
    "\n",
    "#Sort value first to get functioning time series\n",
    "df.sort_values(by='start_time',axis=0,inplace=True)\n",
    "win_percent = pd.DataFrame(np.zeros(df.shape[0]))\n",
    "pd.concat([df,win_percent],axis=1)\n",
    "\n",
    "row_count = 1\n",
    "wins = 0\n",
    "\n",
    "#Iterate each row and calculate wins / count of rows iterated(=games)\n",
    "for idx, row in df.iterrows():\n",
    "    if df.at[idx,'win'] == 1:\n",
    "        wins += 1   \n",
    "    df.at[idx,'win_percent'] = wins/row_count\n",
    "    row_count += 1"
   ]
  },
  {
   "cell_type": "code",
   "execution_count": 130,
   "metadata": {},
   "outputs": [
    {
     "data": {
      "text/html": [
       "<div>\n",
       "<style scoped>\n",
       "    .dataframe tbody tr th:only-of-type {\n",
       "        vertical-align: middle;\n",
       "    }\n",
       "\n",
       "    .dataframe tbody tr th {\n",
       "        vertical-align: top;\n",
       "    }\n",
       "\n",
       "    .dataframe thead th {\n",
       "        text-align: right;\n",
       "    }\n",
       "</style>\n",
       "<table border=\"1\" class=\"dataframe\">\n",
       "  <thead>\n",
       "    <tr style=\"text-align: right;\">\n",
       "      <th></th>\n",
       "      <th>match_id</th>\n",
       "      <th>player_slot</th>\n",
       "      <th>radiant_win</th>\n",
       "      <th>duration</th>\n",
       "      <th>game_mode</th>\n",
       "      <th>lobby_type</th>\n",
       "      <th>hero_id</th>\n",
       "      <th>start_time</th>\n",
       "      <th>version</th>\n",
       "      <th>kills</th>\n",
       "      <th>...</th>\n",
       "      <th>Support</th>\n",
       "      <th>Disabler</th>\n",
       "      <th>Lane support</th>\n",
       "      <th>Initiator</th>\n",
       "      <th>Jungler</th>\n",
       "      <th>Durable</th>\n",
       "      <th>Nuker</th>\n",
       "      <th>Pusher</th>\n",
       "      <th>Escape</th>\n",
       "      <th>win_percent</th>\n",
       "    </tr>\n",
       "  </thead>\n",
       "  <tbody>\n",
       "    <tr>\n",
       "      <th>2413</th>\n",
       "      <td>46215744</td>\n",
       "      <td>131</td>\n",
       "      <td>1</td>\n",
       "      <td>1550</td>\n",
       "      <td>Unknown</td>\n",
       "      <td>normal</td>\n",
       "      <td>Axe</td>\n",
       "      <td>2012-10-04</td>\n",
       "      <td>6.75</td>\n",
       "      <td>0</td>\n",
       "      <td>...</td>\n",
       "      <td>0</td>\n",
       "      <td>1</td>\n",
       "      <td>0</td>\n",
       "      <td>1</td>\n",
       "      <td>1</td>\n",
       "      <td>1</td>\n",
       "      <td>0</td>\n",
       "      <td>0</td>\n",
       "      <td>0</td>\n",
       "      <td>0.00</td>\n",
       "    </tr>\n",
       "    <tr>\n",
       "      <th>2412</th>\n",
       "      <td>48616751</td>\n",
       "      <td>2</td>\n",
       "      <td>0</td>\n",
       "      <td>3051</td>\n",
       "      <td>Unknown</td>\n",
       "      <td>normal</td>\n",
       "      <td>Chaos Knight</td>\n",
       "      <td>2012-10-11</td>\n",
       "      <td>6.75</td>\n",
       "      <td>4</td>\n",
       "      <td>...</td>\n",
       "      <td>0</td>\n",
       "      <td>1</td>\n",
       "      <td>0</td>\n",
       "      <td>1</td>\n",
       "      <td>0</td>\n",
       "      <td>1</td>\n",
       "      <td>0</td>\n",
       "      <td>1</td>\n",
       "      <td>0</td>\n",
       "      <td>0.00</td>\n",
       "    </tr>\n",
       "    <tr>\n",
       "      <th>2411</th>\n",
       "      <td>48644986</td>\n",
       "      <td>129</td>\n",
       "      <td>1</td>\n",
       "      <td>2111</td>\n",
       "      <td>Unknown</td>\n",
       "      <td>normal</td>\n",
       "      <td>Chaos Knight</td>\n",
       "      <td>2012-10-11</td>\n",
       "      <td>6.75</td>\n",
       "      <td>4</td>\n",
       "      <td>...</td>\n",
       "      <td>0</td>\n",
       "      <td>1</td>\n",
       "      <td>0</td>\n",
       "      <td>1</td>\n",
       "      <td>0</td>\n",
       "      <td>1</td>\n",
       "      <td>0</td>\n",
       "      <td>1</td>\n",
       "      <td>0</td>\n",
       "      <td>0.00</td>\n",
       "    </tr>\n",
       "    <tr>\n",
       "      <th>1205</th>\n",
       "      <td>49943204</td>\n",
       "      <td>3</td>\n",
       "      <td>1</td>\n",
       "      <td>1680</td>\n",
       "      <td>Unknown</td>\n",
       "      <td>normal</td>\n",
       "      <td>Lifestealer</td>\n",
       "      <td>2012-10-15</td>\n",
       "      <td>6.75</td>\n",
       "      <td>3</td>\n",
       "      <td>...</td>\n",
       "      <td>0</td>\n",
       "      <td>1</td>\n",
       "      <td>0</td>\n",
       "      <td>0</td>\n",
       "      <td>1</td>\n",
       "      <td>1</td>\n",
       "      <td>0</td>\n",
       "      <td>0</td>\n",
       "      <td>1</td>\n",
       "      <td>0.25</td>\n",
       "    </tr>\n",
       "    <tr>\n",
       "      <th>1207</th>\n",
       "      <td>49866651</td>\n",
       "      <td>131</td>\n",
       "      <td>0</td>\n",
       "      <td>1836</td>\n",
       "      <td>Unknown</td>\n",
       "      <td>normal</td>\n",
       "      <td>Chaos Knight</td>\n",
       "      <td>2012-10-15</td>\n",
       "      <td>6.75</td>\n",
       "      <td>10</td>\n",
       "      <td>...</td>\n",
       "      <td>0</td>\n",
       "      <td>1</td>\n",
       "      <td>0</td>\n",
       "      <td>1</td>\n",
       "      <td>0</td>\n",
       "      <td>1</td>\n",
       "      <td>0</td>\n",
       "      <td>1</td>\n",
       "      <td>0</td>\n",
       "      <td>0.40</td>\n",
       "    </tr>\n",
       "  </tbody>\n",
       "</table>\n",
       "<p>5 rows × 35 columns</p>\n",
       "</div>"
      ],
      "text/plain": [
       "      match_id  player_slot  radiant_win  duration game_mode lobby_type  \\\n",
       "2413  46215744          131            1      1550   Unknown     normal   \n",
       "2412  48616751            2            0      3051   Unknown     normal   \n",
       "2411  48644986          129            1      2111   Unknown     normal   \n",
       "1205  49943204            3            1      1680   Unknown     normal   \n",
       "1207  49866651          131            0      1836   Unknown     normal   \n",
       "\n",
       "           hero_id start_time  version  kills  ...  Support  Disabler  \\\n",
       "2413           Axe 2012-10-04     6.75      0  ...        0         1   \n",
       "2412  Chaos Knight 2012-10-11     6.75      4  ...        0         1   \n",
       "2411  Chaos Knight 2012-10-11     6.75      4  ...        0         1   \n",
       "1205   Lifestealer 2012-10-15     6.75      3  ...        0         1   \n",
       "1207  Chaos Knight 2012-10-15     6.75     10  ...        0         1   \n",
       "\n",
       "     Lane support  Initiator  Jungler  Durable Nuker Pusher Escape  \\\n",
       "2413            0          1        1        1     0      0      0   \n",
       "2412            0          1        0        1     0      1      0   \n",
       "2411            0          1        0        1     0      1      0   \n",
       "1205            0          0        1        1     0      0      1   \n",
       "1207            0          1        0        1     0      1      0   \n",
       "\n",
       "      win_percent  \n",
       "2413         0.00  \n",
       "2412         0.00  \n",
       "2411         0.00  \n",
       "1205         0.25  \n",
       "1207         0.40  \n",
       "\n",
       "[5 rows x 35 columns]"
      ]
     },
     "execution_count": 130,
     "metadata": {},
     "output_type": "execute_result"
    }
   ],
   "source": [
    "df.head()"
   ]
  },
  {
   "cell_type": "code",
   "execution_count": 131,
   "metadata": {},
   "outputs": [
    {
     "name": "stdout",
     "output_type": "stream",
     "text": [
      "<class 'pandas.core.frame.DataFrame'>\n",
      "Int64Index: 14123 entries, 2413 to 7630\n",
      "Data columns (total 35 columns):\n",
      " #   Column          Non-Null Count  Dtype         \n",
      "---  ------          --------------  -----         \n",
      " 0   match_id        14123 non-null  int64         \n",
      " 1   player_slot     14123 non-null  int64         \n",
      " 2   radiant_win     14123 non-null  int64         \n",
      " 3   duration        14123 non-null  int64         \n",
      " 4   game_mode       14123 non-null  object        \n",
      " 5   lobby_type      14123 non-null  object        \n",
      " 6   hero_id         14123 non-null  object        \n",
      " 7   start_time      14123 non-null  datetime64[ns]\n",
      " 8   version         14123 non-null  float64       \n",
      " 9   kills           14123 non-null  int64         \n",
      " 10  deaths          14123 non-null  int64         \n",
      " 11  assists         14123 non-null  int64         \n",
      " 12  skill           14123 non-null  object        \n",
      " 13  leaver_status   14123 non-null  int64         \n",
      " 14  party_size      14123 non-null  float64       \n",
      " 15  win             14123 non-null  int64         \n",
      " 16  steam_id        14123 non-null  object        \n",
      " 17  enemy_team      14123 non-null  object        \n",
      " 18  ally_team       14123 non-null  object        \n",
      " 19  id              14123 non-null  int64         \n",
      " 20  localized_name  14123 non-null  object        \n",
      " 21  primary_attr    14123 non-null  object        \n",
      " 22  attack_type     14123 non-null  object        \n",
      " 23  legs            14123 non-null  int64         \n",
      " 24  Carry           14123 non-null  int32         \n",
      " 25  Support         14123 non-null  int32         \n",
      " 26  Disabler        14123 non-null  int32         \n",
      " 27  Lane support    14123 non-null  int32         \n",
      " 28  Initiator       14123 non-null  int32         \n",
      " 29  Jungler         14123 non-null  int32         \n",
      " 30  Durable         14123 non-null  int32         \n",
      " 31  Nuker           14123 non-null  int32         \n",
      " 32  Pusher          14123 non-null  int32         \n",
      " 33  Escape          14123 non-null  int32         \n",
      " 34  win_percent     14123 non-null  float64       \n",
      "dtypes: datetime64[ns](1), float64(3), int32(10), int64(11), object(10)\n",
      "memory usage: 4.0+ MB\n"
     ]
    }
   ],
   "source": [
    "df.info()"
   ]
  },
  {
   "cell_type": "markdown",
   "metadata": {},
   "source": [
    "# Game analysis"
   ]
  },
  {
   "cell_type": "code",
   "execution_count": 132,
   "metadata": {},
   "outputs": [
    {
     "name": "stdout",
     "output_type": "stream",
     "text": [
      "6.82    1294\n",
      "7.00    1291\n",
      "7.07    1194\n",
      "6.87    1137\n",
      "6.85     807\n",
      "6.80     796\n",
      "7.06     742\n",
      "6.84     738\n",
      "7.10     674\n",
      "7.20     660\n",
      "6.78     552\n",
      "7.23     543\n",
      "6.86     537\n",
      "7.22     502\n",
      "6.83     385\n",
      "6.81     299\n",
      "7.19     269\n",
      "6.88     263\n",
      "7.16     234\n",
      "7.21     218\n",
      "7.14     203\n",
      "7.24     199\n",
      "7.12     186\n",
      "6.77     167\n",
      "7.25      95\n",
      "7.26      91\n",
      "6.76      35\n",
      "6.75      12\n",
      "Name: version, dtype: int64\n"
     ]
    }
   ],
   "source": [
    "#Games per patch \n",
    "#Patch 6.82: bounty runes and Crimson guard added. Killstreak gold reworked. \n",
    "\n",
    "print(df['version'].value_counts().sort_values(ascending=False))"
   ]
  },
  {
   "cell_type": "code",
   "execution_count": 133,
   "metadata": {},
   "outputs": [
    {
     "name": "stdout",
     "output_type": "stream",
     "text": [
      "      kills  duration game_mode           hero_id start_time  steam_id\n",
      "5314     53      4365  all_pick  Phantom Assassin 2018-09-24  fDiamond\n",
      "\n",
      "      assists  duration     game_mode    hero_id start_time  steam_id\n",
      "9141       47      4757  random_draft  Clockwerk 2017-04-16  fDiamond\n",
      "\n",
      "       deaths  duration     game_mode        hero_id start_time steam_id\n",
      "13437      24      3665  random_draft  Shadow Shaman 2017-02-05   Naakka\n"
     ]
    }
   ],
   "source": [
    "# Most kills / assists / deaths in a single game\n",
    "\n",
    "most_kills = df[df['kills'] == df['kills'].max()]\n",
    "print(most_kills[['kills','duration', 'game_mode',  'hero_id', 'start_time', 'steam_id']])\n",
    "print()\n",
    "most_assists = df[df['assists'] == df['assists'].max()]\n",
    "print(most_assists[['assists', 'duration', 'game_mode',  'hero_id', 'start_time', 'steam_id']])\n",
    "print()\n",
    "most_deaths =df[df['deaths'] == df['deaths'].max()]\n",
    "print(most_deaths[['deaths', 'duration', 'game_mode',  'hero_id', 'start_time', 'steam_id']])"
   ]
  },
  {
   "cell_type": "code",
   "execution_count": 134,
   "metadata": {},
   "outputs": [
    {
     "data": {
      "text/plain": [
       "2017-09-16    80\n",
       "2020-01-25    71\n",
       "2019-03-23    64\n",
       "2018-09-29    64\n",
       "2018-04-28    59\n",
       "Name: start_time, dtype: int64"
      ]
     },
     "execution_count": 134,
     "metadata": {},
     "output_type": "execute_result"
    }
   ],
   "source": [
    "#Top 5 days by game count\n",
    "df['start_time'].value_counts().head()"
   ]
  },
  {
   "cell_type": "code",
   "execution_count": 135,
   "metadata": {},
   "outputs": [
    {
     "name": "stdout",
     "output_type": "stream",
     "text": [
      "45\n",
      "24\n",
      "28\n",
      "30\n",
      "20\n"
     ]
    }
   ],
   "source": [
    "#Games won on said days....\n",
    "for i in df['start_time'].value_counts().head().index:\n",
    "    temp= df[df['start_time']==i]    \n",
    "    print(temp['win'].sum())"
   ]
  },
  {
   "cell_type": "code",
   "execution_count": 136,
   "metadata": {},
   "outputs": [],
   "source": [
    "#Group games by day for bar graph visualization. Will be grouped by month later\n",
    "df_id = df.copy()\n",
    "df_id = df_id.groupby('start_time')['match_id'].count()\n",
    "\n",
    "#Groupby returns a series, convert this to dataframe for easier visualization\n",
    "df_id = pd.DataFrame(df_id)"
   ]
  },
  {
   "cell_type": "code",
   "execution_count": 137,
   "metadata": {},
   "outputs": [],
   "source": [
    "df_win = df[['start_time', 'win_percent']]\n",
    "df_win = df_win.set_index('start_time')\n",
    "df_win = df_win.resample('M').mean()"
   ]
  },
  {
   "cell_type": "code",
   "execution_count": 138,
   "metadata": {},
   "outputs": [
    {
     "data": {
      "image/png": "[encoded data removed]",
      "text/plain": [
       "<Figure size 1080x504 with 2 Axes>"
      ]
     },
     "metadata": {},
     "output_type": "display_data"
    }
   ],
   "source": [
    "#Aggregate data by month. df_id has the match coutnts, df\n",
    "df_id_games = df_id.groupby(pd.Grouper(freq='M')).sum()\n",
    "df_win_games = df_win.groupby(pd.Grouper(freq='M')).mean()\n",
    "fig, ax = plt.subplots(figsize=(15,7))\n",
    "ax2 = ax.twinx()\n",
    "\n",
    "ax.plot(df_win_games['win_percent'], color='blue')\n",
    "ax2.bar(df_id_games.index, df_id_games['match_id'], width=10, label='Games')\n",
    "\n",
    "ax2.grid(b=False)\n",
    "fig.autofmt_xdate()\n",
    "ax.axes.xaxis.set_major_formatter(mdates.DateFormatter('%Y'))\n",
    "\n",
    "fig.tight_layout()\n",
    "plt.show();"
   ]
  },
  {
   "cell_type": "code",
   "execution_count": 139,
   "metadata": {},
   "outputs": [
    {
     "name": "stdout",
     "output_type": "stream",
     "text": [
      "high : 254 / 595\n",
      "normal : 1244 / 2602\n",
      "unknown : 5434 / 10713\n",
      "very_high : 89 / 213\n"
     ]
    }
   ],
   "source": [
    "# Wins / games in different skill brackets. \n",
    "\n",
    "df_skill = df.loc[:,'skill']\n",
    "df_skill = pd.concat([df_skill, df['win']],axis=1)\n",
    "df_skill_counts = df_skill.groupby('skill').count()\n",
    "df_skill = df_skill.groupby('skill')['win'].sum()\n",
    "\n",
    "for ind,i in enumerate(df_skill):\n",
    "    print(f'{df_skill.index[ind]} : {df_skill[ind]} / {df_skill_counts.iloc[ind,0]}')\n"
   ]
  },
  {
   "cell_type": "markdown",
   "metadata": {},
   "source": [
    "# Hero performance statistics"
   ]
  },
  {
   "cell_type": "code",
   "execution_count": 140,
   "metadata": {},
   "outputs": [],
   "source": [
    "hero_df = pd.crosstab(index=df['hero_id'], columns=df['win'])"
   ]
  },
  {
   "cell_type": "code",
   "execution_count": 141,
   "metadata": {},
   "outputs": [],
   "source": [
    "hero_df.rename(columns={0:'loss',1:'win'},inplace= True)"
   ]
  },
  {
   "cell_type": "code",
   "execution_count": 142,
   "metadata": {},
   "outputs": [],
   "source": [
    "hero_df['win%'] = hero_df['win']/(hero_df['win']+hero_df['loss'])"
   ]
  },
  {
   "cell_type": "code",
   "execution_count": 143,
   "metadata": {},
   "outputs": [],
   "source": [
    "hero_df.sort_values(by='win%',inplace=True,ascending=False)"
   ]
  },
  {
   "cell_type": "code",
   "execution_count": 144,
   "metadata": {},
   "outputs": [],
   "source": [
    "hero_df_most_played = hero_df[(hero_df['loss']+hero_df['win']>30)]"
   ]
  },
  {
   "cell_type": "code",
   "execution_count": 145,
   "metadata": {},
   "outputs": [
    {
     "data": {
      "image/png": "[encoded data removed]",
      "text/plain": [
       "<Figure size 1440x720 with 1 Axes>"
      ]
     },
     "metadata": {},
     "output_type": "display_data"
    }
   ],
   "source": [
    "#Lets see which heros have had the most success. Only heros with more than 30 games are included.\n",
    "fig = plt.figure(figsize=(20,10))\n",
    "plt.plot(hero_df_most_played.index, hero_df_most_played['win%'])\n",
    "plt.xlabel('Hero')\n",
    "plt.ylabel('Win rate')\n",
    "plt.xticks(rotation=90);"
   ]
  },
  {
   "cell_type": "code",
   "execution_count": 146,
   "metadata": {},
   "outputs": [
    {
     "name": "stdout",
     "output_type": "stream",
     "text": [
      "win                  loss  win      win%\n",
      "hero_id                                 \n",
      "Spectre                38   62  0.620000\n",
      "Underlord              13   21  0.617647\n",
      "Shadow Demon           15   24  0.615385\n",
      "Elder Titan            31   49  0.612500\n",
      "Treant Protector       35   53  0.602273\n",
      "Zeus                   27   40  0.597015\n",
      "Riki                   75  110  0.594595\n",
      "Clockwerk             287  414  0.590585\n",
      "Silencer               34   49  0.590361\n",
      "Warlock               128  180  0.584416\n",
      "Nyx Assassin           21   29  0.580000\n",
      "Drow Ranger            69   93  0.574074\n",
      "Dazzle                 87  117  0.573529\n",
      "Crystal Maiden        210  275  0.567010\n",
      "Abaddon                31   40  0.563380\n",
      "Omniknight             61   77  0.557971\n",
      "Lich                  122  151  0.553114\n",
      "Beastmaster            30   37  0.552239\n",
      "Sniper                 66   81  0.551020\n",
      "Tidehunter             85  102  0.545455\n",
      "Dark Seer              32   38  0.542857\n",
      "Ogre Magi             153  181  0.541916\n",
      "Medusa                 22   26  0.541667\n",
      "Phantom Lancer         46   53  0.535354\n",
      "Earthshaker           459  520  0.531154\n",
      "Witch Doctor          245  277  0.530651\n",
      "Bane                   89   99  0.526596\n",
      "Wraith King            81   90  0.526316\n",
      "Pudge                  56   61  0.521368\n",
      "Phantom Assassin      170  184  0.519774\n",
      "Vengeful Spirit       122  131  0.517787\n",
      "Luna                   62   66  0.515625\n",
      "Ursa                   47   50  0.515464\n",
      "Bristleback           132  140  0.514706\n",
      "Viper                  81   85  0.512048\n",
      "Ancient Apparition     42   44  0.511628\n",
      "Dragon Knight          76   79  0.509677\n",
      "Centaur Warrunner     128  132  0.507692\n",
      "Shadow Shaman         127  129  0.503906\n",
      "Jakiro                 50   50  0.500000\n",
      "Huskar                 27   27  0.500000\n",
      "Undying                45   44  0.494382\n",
      "Faceless Void          78   76  0.493506\n",
      "Sven                  128  123  0.490040\n",
      "Bounty Hunter          38   36  0.486486\n",
      "Axe                   144  134  0.482014\n",
      "Lina                  120  111  0.480519\n",
      "Juggernaut             62   57  0.478992\n",
      "Lion                  175  155  0.469697\n",
      "Slardar                84   74  0.468354\n",
      "Alchemist              24   21  0.466667\n",
      "Death Prophet          31   27  0.465517\n",
      "Tusk                  108   94  0.465347\n",
      "Sand King             133  115  0.463710\n",
      "Spirit Breaker         42   36  0.461538\n",
      "Timbersaw              33   28  0.459016\n",
      "Kunkka                122  103  0.457778\n",
      "Naga Siren             19   16  0.457143\n",
      "Razor                  43   36  0.455696\n",
      "Skywrath Mage          94   77  0.450292\n",
      "Nature's Prophet       64   52  0.448276\n",
      "Outworld Devourer      57   46  0.446602\n",
      "Doom                   35   28  0.444444\n",
      "Visage                 18   14  0.437500\n",
      "Venomancer             40   31  0.436620\n",
      "Enigma                 31   24  0.436364\n",
      "Chaos Knight           47   35  0.426829\n",
      "Legion Commander       73   54  0.425197\n",
      "Necrophos              46   34  0.425000\n",
      "Templar Assassin       19   14  0.424242\n",
      "Tiny                   79   58  0.423358\n",
      "Clinkz                 48   33  0.407407\n",
      "Magnus                191  129  0.403125\n",
      "Disruptor              49   33  0.402439\n",
      "Queen of Pain          44   29  0.397260\n",
      "Anti-Mage              32   21  0.396226\n",
      "Mirana                 57   37  0.393617\n",
      "Pangolier              25   16  0.390244\n",
      "Lifestealer            36   23  0.389831\n",
      "Troll Warlord          48   30  0.384615\n",
      "Night Stalker          21   13  0.382353\n",
      "Slark                  76   47  0.382114\n",
      "Keeper of the Light    31   19  0.380000\n",
      "Lycan                  28   17  0.377778\n",
      "Bloodseeker            26   14  0.350000\n",
      "Brewmaster             27   14  0.341463\n",
      "Gyrocopter             45   23  0.338235\n",
      "Windranger             71   36  0.336449\n",
      "Leshrac                40   20  0.333333\n",
      "Weaver                 39   19  0.327586\n",
      "Earth Spirit           22   10  0.312500\n",
      "Rubick                 84   36  0.300000\n",
      "Ember Spirit           27    9  0.250000\n"
     ]
    }
   ],
   "source": [
    "print(hero_df_most_played)"
   ]
  },
  {
   "cell_type": "code",
   "execution_count": 147,
   "metadata": {},
   "outputs": [
    {
     "data": {
      "text/html": [
       "<div>\n",
       "<style scoped>\n",
       "    .dataframe tbody tr th:only-of-type {\n",
       "        vertical-align: middle;\n",
       "    }\n",
       "\n",
       "    .dataframe tbody tr th {\n",
       "        vertical-align: top;\n",
       "    }\n",
       "\n",
       "    .dataframe thead th {\n",
       "        text-align: right;\n",
       "    }\n",
       "</style>\n",
       "<table border=\"1\" class=\"dataframe\">\n",
       "  <thead>\n",
       "    <tr style=\"text-align: right;\">\n",
       "      <th>win</th>\n",
       "      <th>loss</th>\n",
       "      <th>win</th>\n",
       "      <th>win%</th>\n",
       "    </tr>\n",
       "    <tr>\n",
       "      <th>hero_id</th>\n",
       "      <th></th>\n",
       "      <th></th>\n",
       "      <th></th>\n",
       "    </tr>\n",
       "  </thead>\n",
       "  <tbody>\n",
       "    <tr>\n",
       "      <th>Monkey King</th>\n",
       "      <td>2</td>\n",
       "      <td>6</td>\n",
       "      <td>0.750000</td>\n",
       "    </tr>\n",
       "    <tr>\n",
       "      <th>Mars</th>\n",
       "      <td>2</td>\n",
       "      <td>3</td>\n",
       "      <td>0.600000</td>\n",
       "    </tr>\n",
       "    <tr>\n",
       "      <th>Shadow Fiend</th>\n",
       "      <td>13</td>\n",
       "      <td>11</td>\n",
       "      <td>0.458333</td>\n",
       "    </tr>\n",
       "    <tr>\n",
       "      <th>Morphling</th>\n",
       "      <td>6</td>\n",
       "      <td>5</td>\n",
       "      <td>0.454545</td>\n",
       "    </tr>\n",
       "    <tr>\n",
       "      <th>Enchantress</th>\n",
       "      <td>12</td>\n",
       "      <td>9</td>\n",
       "      <td>0.428571</td>\n",
       "    </tr>\n",
       "    <tr>\n",
       "      <th>Batrider</th>\n",
       "      <td>10</td>\n",
       "      <td>7</td>\n",
       "      <td>0.411765</td>\n",
       "    </tr>\n",
       "    <tr>\n",
       "      <th>Grimstroke</th>\n",
       "      <td>9</td>\n",
       "      <td>6</td>\n",
       "      <td>0.400000</td>\n",
       "    </tr>\n",
       "    <tr>\n",
       "      <th>Puck</th>\n",
       "      <td>14</td>\n",
       "      <td>9</td>\n",
       "      <td>0.391304</td>\n",
       "    </tr>\n",
       "    <tr>\n",
       "      <th>Pugna</th>\n",
       "      <td>18</td>\n",
       "      <td>11</td>\n",
       "      <td>0.379310</td>\n",
       "    </tr>\n",
       "    <tr>\n",
       "      <th>Chen</th>\n",
       "      <td>15</td>\n",
       "      <td>9</td>\n",
       "      <td>0.375000</td>\n",
       "    </tr>\n",
       "    <tr>\n",
       "      <th>Io</th>\n",
       "      <td>11</td>\n",
       "      <td>6</td>\n",
       "      <td>0.352941</td>\n",
       "    </tr>\n",
       "    <tr>\n",
       "      <th>Broodmother</th>\n",
       "      <td>13</td>\n",
       "      <td>7</td>\n",
       "      <td>0.350000</td>\n",
       "    </tr>\n",
       "    <tr>\n",
       "      <th>Dark Willow</th>\n",
       "      <td>6</td>\n",
       "      <td>3</td>\n",
       "      <td>0.333333</td>\n",
       "    </tr>\n",
       "    <tr>\n",
       "      <th>Winter Wyvern</th>\n",
       "      <td>18</td>\n",
       "      <td>9</td>\n",
       "      <td>0.333333</td>\n",
       "    </tr>\n",
       "    <tr>\n",
       "      <th>Snapfire</th>\n",
       "      <td>8</td>\n",
       "      <td>4</td>\n",
       "      <td>0.333333</td>\n",
       "    </tr>\n",
       "    <tr>\n",
       "      <th>Invoker</th>\n",
       "      <td>9</td>\n",
       "      <td>4</td>\n",
       "      <td>0.307692</td>\n",
       "    </tr>\n",
       "    <tr>\n",
       "      <th>Oracle</th>\n",
       "      <td>9</td>\n",
       "      <td>4</td>\n",
       "      <td>0.307692</td>\n",
       "    </tr>\n",
       "    <tr>\n",
       "      <th>Meepo</th>\n",
       "      <td>12</td>\n",
       "      <td>4</td>\n",
       "      <td>0.250000</td>\n",
       "    </tr>\n",
       "    <tr>\n",
       "      <th>Storm Spirit</th>\n",
       "      <td>20</td>\n",
       "      <td>6</td>\n",
       "      <td>0.230769</td>\n",
       "    </tr>\n",
       "    <tr>\n",
       "      <th>Techies</th>\n",
       "      <td>14</td>\n",
       "      <td>4</td>\n",
       "      <td>0.222222</td>\n",
       "    </tr>\n",
       "    <tr>\n",
       "      <th>Tinker</th>\n",
       "      <td>23</td>\n",
       "      <td>4</td>\n",
       "      <td>0.148148</td>\n",
       "    </tr>\n",
       "  </tbody>\n",
       "</table>\n",
       "</div>"
      ],
      "text/plain": [
       "win            loss  win      win%\n",
       "hero_id                           \n",
       "Monkey King       2    6  0.750000\n",
       "Mars              2    3  0.600000\n",
       "Shadow Fiend     13   11  0.458333\n",
       "Morphling         6    5  0.454545\n",
       "Enchantress      12    9  0.428571\n",
       "Batrider         10    7  0.411765\n",
       "Grimstroke        9    6  0.400000\n",
       "Puck             14    9  0.391304\n",
       "Pugna            18   11  0.379310\n",
       "Chen             15    9  0.375000\n",
       "Io               11    6  0.352941\n",
       "Broodmother      13    7  0.350000\n",
       "Dark Willow       6    3  0.333333\n",
       "Winter Wyvern    18    9  0.333333\n",
       "Snapfire          8    4  0.333333\n",
       "Invoker           9    4  0.307692\n",
       "Oracle            9    4  0.307692\n",
       "Meepo            12    4  0.250000\n",
       "Storm Spirit     20    6  0.230769\n",
       "Techies          14    4  0.222222\n",
       "Tinker           23    4  0.148148"
      ]
     },
     "execution_count": 147,
     "metadata": {},
     "output_type": "execute_result"
    }
   ],
   "source": [
    "#Which heros have been played less than 30 times? Dem Tinker stats...\n",
    "hero_df[(hero_df['loss']+hero_df['win']<30)]"
   ]
  },
  {
   "cell_type": "code",
   "execution_count": 148,
   "metadata": {},
   "outputs": [],
   "source": [
    "# Which roles have been the most succesful? Durable support initiators...the dream combo\n",
    "\n",
    "df_z = df.loc[:,'Carry':'Escape']\n",
    "df_z = pd.concat([df_z, df['win']],axis=1)\n",
    "df_z = df_z.groupby('win').sum()\n",
    "df_z.drop('Lane support',inplace=True,axis=1)"
   ]
  },
  {
   "cell_type": "code",
   "execution_count": 149,
   "metadata": {},
   "outputs": [
    {
     "data": {
      "text/html": [
       "<div>\n",
       "<style scoped>\n",
       "    .dataframe tbody tr th:only-of-type {\n",
       "        vertical-align: middle;\n",
       "    }\n",
       "\n",
       "    .dataframe tbody tr th {\n",
       "        vertical-align: top;\n",
       "    }\n",
       "\n",
       "    .dataframe thead th {\n",
       "        text-align: right;\n",
       "    }\n",
       "</style>\n",
       "<table border=\"1\" class=\"dataframe\">\n",
       "  <thead>\n",
       "    <tr style=\"text-align: right;\">\n",
       "      <th>win</th>\n",
       "      <th>0</th>\n",
       "      <th>1</th>\n",
       "    </tr>\n",
       "  </thead>\n",
       "  <tbody>\n",
       "    <tr>\n",
       "      <th>Carry</th>\n",
       "      <td>3052</td>\n",
       "      <td>2715</td>\n",
       "    </tr>\n",
       "    <tr>\n",
       "      <th>Support</th>\n",
       "      <td>3329</td>\n",
       "      <td>3441</td>\n",
       "    </tr>\n",
       "    <tr>\n",
       "      <th>Disabler</th>\n",
       "      <td>5745</td>\n",
       "      <td>5682</td>\n",
       "    </tr>\n",
       "    <tr>\n",
       "      <th>Initiator</th>\n",
       "      <td>3965</td>\n",
       "      <td>4015</td>\n",
       "    </tr>\n",
       "    <tr>\n",
       "      <th>Jungler</th>\n",
       "      <td>835</td>\n",
       "      <td>800</td>\n",
       "    </tr>\n",
       "    <tr>\n",
       "      <th>Durable</th>\n",
       "      <td>2787</td>\n",
       "      <td>2877</td>\n",
       "    </tr>\n",
       "    <tr>\n",
       "      <th>Nuker</th>\n",
       "      <td>5484</td>\n",
       "      <td>5347</td>\n",
       "    </tr>\n",
       "    <tr>\n",
       "      <th>Pusher</th>\n",
       "      <td>1162</td>\n",
       "      <td>996</td>\n",
       "    </tr>\n",
       "    <tr>\n",
       "      <th>Escape</th>\n",
       "      <td>2092</td>\n",
       "      <td>1829</td>\n",
       "    </tr>\n",
       "  </tbody>\n",
       "</table>\n",
       "</div>"
      ],
      "text/plain": [
       "win           0     1\n",
       "Carry      3052  2715\n",
       "Support    3329  3441\n",
       "Disabler   5745  5682\n",
       "Initiator  3965  4015\n",
       "Jungler     835   800\n",
       "Durable    2787  2877\n",
       "Nuker      5484  5347\n",
       "Pusher     1162   996\n",
       "Escape     2092  1829"
      ]
     },
     "execution_count": 149,
     "metadata": {},
     "output_type": "execute_result"
    }
   ],
   "source": [
    "df_z.T.head(10)"
   ]
  },
  {
   "cell_type": "code",
   "execution_count": 150,
   "metadata": {},
   "outputs": [
    {
     "data": {
      "image/png": "[encoded data removed]",
      "text/plain": [
       "<Figure size 1080x720 with 1 Axes>"
      ]
     },
     "metadata": {},
     "output_type": "display_data"
    }
   ],
   "source": [
    "ax = df_z.T[[0,1]].plot(kind='bar', title =\"Games/wins by role\",figsize=(15,10),legend=True, fontsize=12)"
   ]
  },
  {
   "cell_type": "code",
   "execution_count": 151,
   "metadata": {},
   "outputs": [
    {
     "data": {
      "text/plain": [
       "Ogre Magi           334\n",
       "Kunkka              225\n",
       "Wraith King         171\n",
       "Treant Protector     88\n",
       "Alchemist            45\n",
       "Name: hero_id, dtype: int64"
      ]
     },
     "execution_count": 151,
     "metadata": {},
     "output_type": "execute_result"
    }
   ],
   "source": [
    "#Which heros have the sacred triforce...\n",
    "df_roles = df[(df['Support'] == 1) & (df['Durable']==1) & (df['Initiator']==1)]\n",
    "df_roles['hero_id'].value_counts()\n",
    "\n",
    "#The magus reigns supreme"
   ]
  },
  {
   "cell_type": "code",
   "execution_count": 152,
   "metadata": {},
   "outputs": [
    {
     "data": {
      "text/html": [
       "<div>\n",
       "<style scoped>\n",
       "    .dataframe tbody tr th:only-of-type {\n",
       "        vertical-align: middle;\n",
       "    }\n",
       "\n",
       "    .dataframe tbody tr th {\n",
       "        vertical-align: top;\n",
       "    }\n",
       "\n",
       "    .dataframe thead th {\n",
       "        text-align: right;\n",
       "    }\n",
       "</style>\n",
       "<table border=\"1\" class=\"dataframe\">\n",
       "  <thead>\n",
       "    <tr style=\"text-align: right;\">\n",
       "      <th></th>\n",
       "      <th></th>\n",
       "      <th>Carry</th>\n",
       "      <th>Support</th>\n",
       "      <th>Disabler</th>\n",
       "      <th>Lane support</th>\n",
       "      <th>Initiator</th>\n",
       "      <th>Jungler</th>\n",
       "      <th>Durable</th>\n",
       "      <th>Nuker</th>\n",
       "      <th>Pusher</th>\n",
       "      <th>Escape</th>\n",
       "    </tr>\n",
       "    <tr>\n",
       "      <th>steam_id</th>\n",
       "      <th>win</th>\n",
       "      <th></th>\n",
       "      <th></th>\n",
       "      <th></th>\n",
       "      <th></th>\n",
       "      <th></th>\n",
       "      <th></th>\n",
       "      <th></th>\n",
       "      <th></th>\n",
       "      <th></th>\n",
       "      <th></th>\n",
       "    </tr>\n",
       "  </thead>\n",
       "  <tbody>\n",
       "    <tr>\n",
       "      <th rowspan=\"2\" valign=\"top\">Jonu</th>\n",
       "      <th>0</th>\n",
       "      <td>498</td>\n",
       "      <td>692</td>\n",
       "      <td>1008</td>\n",
       "      <td>0</td>\n",
       "      <td>521</td>\n",
       "      <td>158</td>\n",
       "      <td>353</td>\n",
       "      <td>948</td>\n",
       "      <td>199</td>\n",
       "      <td>348</td>\n",
       "    </tr>\n",
       "    <tr>\n",
       "      <th>1</th>\n",
       "      <td>420</td>\n",
       "      <td>772</td>\n",
       "      <td>1045</td>\n",
       "      <td>0</td>\n",
       "      <td>519</td>\n",
       "      <td>190</td>\n",
       "      <td>339</td>\n",
       "      <td>959</td>\n",
       "      <td>174</td>\n",
       "      <td>306</td>\n",
       "    </tr>\n",
       "    <tr>\n",
       "      <th rowspan=\"2\" valign=\"top\">Kaamio</th>\n",
       "      <th>0</th>\n",
       "      <td>423</td>\n",
       "      <td>568</td>\n",
       "      <td>982</td>\n",
       "      <td>0</td>\n",
       "      <td>603</td>\n",
       "      <td>114</td>\n",
       "      <td>455</td>\n",
       "      <td>930</td>\n",
       "      <td>164</td>\n",
       "      <td>284</td>\n",
       "    </tr>\n",
       "    <tr>\n",
       "      <th>1</th>\n",
       "      <td>387</td>\n",
       "      <td>593</td>\n",
       "      <td>987</td>\n",
       "      <td>0</td>\n",
       "      <td>602</td>\n",
       "      <td>87</td>\n",
       "      <td>476</td>\n",
       "      <td>943</td>\n",
       "      <td>158</td>\n",
       "      <td>264</td>\n",
       "    </tr>\n",
       "    <tr>\n",
       "      <th rowspan=\"2\" valign=\"top\">Naakka</th>\n",
       "      <th>0</th>\n",
       "      <td>432</td>\n",
       "      <td>460</td>\n",
       "      <td>676</td>\n",
       "      <td>0</td>\n",
       "      <td>486</td>\n",
       "      <td>97</td>\n",
       "      <td>376</td>\n",
       "      <td>767</td>\n",
       "      <td>162</td>\n",
       "      <td>260</td>\n",
       "    </tr>\n",
       "    <tr>\n",
       "      <th>1</th>\n",
       "      <td>394</td>\n",
       "      <td>426</td>\n",
       "      <td>595</td>\n",
       "      <td>0</td>\n",
       "      <td>455</td>\n",
       "      <td>76</td>\n",
       "      <td>374</td>\n",
       "      <td>700</td>\n",
       "      <td>140</td>\n",
       "      <td>197</td>\n",
       "    </tr>\n",
       "    <tr>\n",
       "      <th rowspan=\"2\" valign=\"top\">fDiamond</th>\n",
       "      <th>0</th>\n",
       "      <td>1170</td>\n",
       "      <td>1276</td>\n",
       "      <td>2420</td>\n",
       "      <td>0</td>\n",
       "      <td>1900</td>\n",
       "      <td>376</td>\n",
       "      <td>1246</td>\n",
       "      <td>2200</td>\n",
       "      <td>402</td>\n",
       "      <td>906</td>\n",
       "    </tr>\n",
       "    <tr>\n",
       "      <th>1</th>\n",
       "      <td>1054</td>\n",
       "      <td>1251</td>\n",
       "      <td>2409</td>\n",
       "      <td>0</td>\n",
       "      <td>1969</td>\n",
       "      <td>369</td>\n",
       "      <td>1332</td>\n",
       "      <td>2149</td>\n",
       "      <td>336</td>\n",
       "      <td>811</td>\n",
       "    </tr>\n",
       "    <tr>\n",
       "      <th rowspan=\"2\" valign=\"top\">ika_bono</th>\n",
       "      <th>0</th>\n",
       "      <td>529</td>\n",
       "      <td>333</td>\n",
       "      <td>659</td>\n",
       "      <td>0</td>\n",
       "      <td>455</td>\n",
       "      <td>90</td>\n",
       "      <td>357</td>\n",
       "      <td>639</td>\n",
       "      <td>235</td>\n",
       "      <td>294</td>\n",
       "    </tr>\n",
       "    <tr>\n",
       "      <th>1</th>\n",
       "      <td>460</td>\n",
       "      <td>399</td>\n",
       "      <td>646</td>\n",
       "      <td>0</td>\n",
       "      <td>470</td>\n",
       "      <td>78</td>\n",
       "      <td>356</td>\n",
       "      <td>596</td>\n",
       "      <td>188</td>\n",
       "      <td>251</td>\n",
       "    </tr>\n",
       "  </tbody>\n",
       "</table>\n",
       "</div>"
      ],
      "text/plain": [
       "              Carry  Support  Disabler  Lane support  Initiator  Jungler  \\\n",
       "steam_id win                                                               \n",
       "Jonu     0      498      692      1008             0        521      158   \n",
       "         1      420      772      1045             0        519      190   \n",
       "Kaamio   0      423      568       982             0        603      114   \n",
       "         1      387      593       987             0        602       87   \n",
       "Naakka   0      432      460       676             0        486       97   \n",
       "         1      394      426       595             0        455       76   \n",
       "fDiamond 0     1170     1276      2420             0       1900      376   \n",
       "         1     1054     1251      2409             0       1969      369   \n",
       "ika_bono 0      529      333       659             0        455       90   \n",
       "         1      460      399       646             0        470       78   \n",
       "\n",
       "              Durable  Nuker  Pusher  Escape  \n",
       "steam_id win                                  \n",
       "Jonu     0        353    948     199     348  \n",
       "         1        339    959     174     306  \n",
       "Kaamio   0        455    930     164     284  \n",
       "         1        476    943     158     264  \n",
       "Naakka   0        376    767     162     260  \n",
       "         1        374    700     140     197  \n",
       "fDiamond 0       1246   2200     402     906  \n",
       "         1       1332   2149     336     811  \n",
       "ika_bono 0        357    639     235     294  \n",
       "         1        356    596     188     251  "
      ]
     },
     "execution_count": 152,
     "metadata": {},
     "output_type": "execute_result"
    }
   ],
   "source": [
    "#How about for each player? It seems that no one is doing particularly well with carries.\n",
    "df_z = df.loc[:,'Carry':'Escape']\n",
    "df_z = pd.concat([df_z, df['win'], df['steam_id']],axis=1)\n",
    "df_z.groupby(['steam_id','win']).sum()"
   ]
  },
  {
   "cell_type": "markdown",
   "metadata": {},
   "source": [
    "## Game duration analysis"
   ]
  },
  {
   "cell_type": "code",
   "execution_count": 153,
   "metadata": {},
   "outputs": [
    {
     "data": {
      "image/png": "[encoded data removed]",
      "text/plain": [
       "<Figure size 1440x1440 with 3 Axes>"
      ]
     },
     "metadata": {},
     "output_type": "display_data"
    }
   ],
   "source": [
    "#Average game seems to last for about 35-45 minutes. Shorter games are more common than long ones.\n",
    "\n",
    "fig = plt.figure(figsize=(20,20))\n",
    "plt.subplot(3,1,1)\n",
    "time = (df['duration']/60)\n",
    "sns.distplot(time, bins=120)\n",
    "\n",
    "plt.title('Length of games, all')\n",
    "plt.xlabel('Duration')\n",
    "plt.ylabel('Percentage of games');\n",
    "\n",
    "plt.subplot(3,1,2)\n",
    "short_games = df[df['duration']<1800]\n",
    "sns.distplot(short_games['duration']/60, bins=30)\n",
    "plt.title(f'Length of games < 30 min {short_games.shape[0]} / {df.shape[0]}')\n",
    "plt.xlabel('Duration')\n",
    "plt.ylabel('Percentage of games');\n",
    "\n",
    "\n",
    "plt.subplot(3,1,3)\n",
    "long_games = df[df['duration']>3600]\n",
    "sns.distplot(long_games['duration']/60, bins=30)\n",
    "plt.title(f'Length of games > 60 min {long_games.shape[0]} / {df.shape[0]}')\n",
    "plt.xlabel('Duration')\n",
    "plt.ylabel('Percentage of games');"
   ]
  },
  {
   "cell_type": "code",
   "execution_count": 154,
   "metadata": {},
   "outputs": [],
   "source": [
    "#Divide dataframe into sections based on game length\n",
    "\n",
    "df10_20 = df[df['duration']<1200]\n",
    "df20_30 = df[(df['duration']>1200) & (df['duration']<1800)]\n",
    "df30_40 = df[(df['duration']>1800) & (df['duration']<2400)]\n",
    "df40_50 = df[(df['duration']>2400) & (df['duration']<2800)]\n",
    "df50_60 = df[(df['duration']>2800) & (df['duration']<3200)]\n",
    "df60 = df[df['duration']>3200]\n",
    "\n",
    "times = [df10_20, df20_30, df30_40, df40_50, df50_60, df60]\n"
   ]
  },
  {
   "cell_type": "code",
   "execution_count": 156,
   "metadata": {},
   "outputs": [
    {
     "name": "stdout",
     "output_type": "stream",
     "text": [
      "avg. length 15 mins:  wins / losses / win%: 96 / 189 / 50.79365079365079 \n",
      "avg. length 26 mins:  wins / losses / win%: 728 / 1587 / 45.87271581600504 \n",
      "avg. length 35 mins:  wins / losses / win%: 2366 / 4816 / 49.127906976744185 \n",
      "avg. length 43 mins:  wins / losses / win%: 1669 / 3251 / 51.338049830821284 \n",
      "avg. length 49 mins:  wins / losses / win%: 1073 / 2148 / 49.95344506517691 \n",
      "avg. length 60 mins:  wins / losses / win%: 1073 / 2101 / 51.07091861018562 \n"
     ]
    }
   ],
   "source": [
    "#Games lasting between 20 and 30 mins seem to have the worst winrate. \n",
    "\n",
    "for t in times:\n",
    "    wins = t['win'].sum()\n",
    "    average_length = t['duration'].mean()\n",
    "    print(f'avg. length {int(average_length/60)} mins:  wins / losses / win%: {wins} / {t.shape[0]} / {wins/t.shape[0]*100} ')"
   ]
  },
  {
   "cell_type": "markdown",
   "metadata": {},
   "source": [
    "## Enemy lineups"
   ]
  },
  {
   "cell_type": "code",
   "execution_count": 194,
   "metadata": {},
   "outputs": [
    {
     "name": "stdout",
     "output_type": "stream",
     "text": [
      "(14123, 118)\n"
     ]
    }
   ],
   "source": [
    "print(hero_array.shape)"
   ]
  },
  {
   "cell_type": "code",
   "execution_count": 248,
   "metadata": {},
   "outputs": [],
   "source": [
    "hero_list = np.arange(1,df_heros.shape[0])\n",
    "#print(len(hero_list))\n",
    "hero_array = np.zeros((df.shape[0], len(hero_list)))    "
   ]
  },
  {
   "cell_type": "code",
   "execution_count": 249,
   "metadata": {},
   "outputs": [],
   "source": [
    "df_enemy = pd.concat([df, pd.DataFrame(hero_array)], axis=1) "
   ]
  },
  {
   "cell_type": "code",
   "execution_count": 251,
   "metadata": {},
   "outputs": [
    {
     "name": "stdout",
     "output_type": "stream",
     "text": [
      "     match_id  player_slot  radiant_win  duration game_mode lobby_type  \\\n",
      "0  5336648745            4            1      1805  all_pick     ranked   \n",
      "1  5319734632            0            1      3030  all_pick     normal   \n",
      "2  5307601978            2            1      2310  all_pick     ranked   \n",
      "3  5298270075          131            0      2767  all_pick     ranked   \n",
      "4  5298172743            3            1      2327  all_pick     ranked   \n",
      "\n",
      "         hero_id start_time  version  kills  ...  108  109  110  111  112  \\\n",
      "0         Jakiro 2020-04-05     7.26      3  ...  0.0  1.0  0.0  0.0  0.0   \n",
      "1   Witch Doctor 2020-03-28     7.26     11  ...  0.0  0.0  0.0  0.0  0.0   \n",
      "2  Shadow Shaman 2020-03-22     7.26      4  ...  0.0  0.0  0.0  0.0  0.0   \n",
      "3   Witch Doctor 2020-03-17     7.26      4  ...  0.0  0.0  0.0  0.0  0.0   \n",
      "4   Witch Doctor 2020-03-17     7.26      7  ...  0.0  0.0  0.0  0.0  0.0   \n",
      "\n",
      "   113  114  115  116  117  \n",
      "0  0.0  0.0  0.0  0.0  0.0  \n",
      "1  0.0  0.0  0.0  0.0  0.0  \n",
      "2  0.0  0.0  0.0  0.0  0.0  \n",
      "3  0.0  0.0  0.0  0.0  0.0  \n",
      "4  0.0  0.0  0.0  0.0  0.0  \n",
      "\n",
      "[5 rows x 153 columns]\n"
     ]
    }
   ],
   "source": [
    "heros = df_enemy\n",
    "for ind, row in heros.iterrows():\n",
    "    enemy = row['enemy_team']\n",
    "    enemy = enemy.replace('[', '')\n",
    "    enemy = enemy.replace(']','')\n",
    "    enemy = enemy.split(',')\n",
    "\n",
    "    for idx,hero in enumerate (enemy):        \n",
    "        hero = hero.strip()\n",
    "        hero = int(float(hero))\n",
    "        if hero in heros.columns:                \n",
    "            heros.at[ind, hero] = 1.0"
   ]
  },
  {
   "cell_type": "code",
   "execution_count": 263,
   "metadata": {},
   "outputs": [
    {
     "ename": "SyntaxError",
     "evalue": "invalid syntax (<ipython-input-263-ec745cc75bbf>, line 1)",
     "output_type": "error",
     "traceback": [
      "\u001b[1;36m  File \u001b[1;32m\"<ipython-input-263-ec745cc75bbf>\"\u001b[1;36m, line \u001b[1;32m1\u001b[0m\n\u001b[1;33m    heros[[1:118]].astype(float)\u001b[0m\n\u001b[1;37m            ^\u001b[0m\n\u001b[1;31mSyntaxError\u001b[0m\u001b[1;31m:\u001b[0m invalid syntax\n"
     ]
    }
   ],
   "source": [
    "heros[[1:118]].astype(float)"
   ]
  },
  {
   "cell_type": "code",
   "execution_count": 233,
   "metadata": {},
   "outputs": [],
   "source": [
    "axc.at[0,110] = 1"
   ]
  },
  {
   "cell_type": "code",
   "execution_count": 238,
   "metadata": {},
   "outputs": [
    {
     "data": {
      "text/plain": [
       "0.0"
      ]
     },
     "execution_count": 238,
     "metadata": {},
     "output_type": "execute_result"
    }
   ],
   "source": [
    "axc[111].sum()"
   ]
  },
  {
   "cell_type": "code",
   "execution_count": 247,
   "metadata": {},
   "outputs": [
    {
     "data": {
      "text/plain": [
       "(14123, 157)"
      ]
     },
     "execution_count": 247,
     "metadata": {},
     "output_type": "execute_result"
    }
   ],
   "source": [
    "heros.shape"
   ]
  },
  {
   "cell_type": "code",
   "execution_count": null,
   "metadata": {},
   "outputs": [],
   "source": []
  }
 ],
 "metadata": {
  "kernelspec": {
   "display_name": "Python 3",
   "language": "python",
   "name": "python3"
  },
  "language_info": {
   "codemirror_mode": {
    "name": "ipython",
    "version": 3
   },
   "file_extension": ".py",
   "mimetype": "text/x-python",
   "name": "python",
   "nbconvert_exporter": "python",
   "pygments_lexer": "ipython3",
   "version": "3.7.6"
  }
 },
 "nbformat": 4,
 "nbformat_minor": 4
}
